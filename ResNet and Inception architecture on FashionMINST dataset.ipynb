{
  "nbformat": 4,
  "nbformat_minor": 0,
  "metadata": {
    "colab": {
      "name": "Homework 3.ipynb",
      "provenance": [],
      "collapsed_sections": []
    },
    "kernelspec": {
      "name": "python3",
      "display_name": "Python 3"
    },
    "accelerator": "GPU"
  },
  "cells": [
    {
      "cell_type": "markdown",
      "metadata": {
        "id": "rd6MD0PJJLfk",
        "colab_type": "text"
      },
      "source": [
        "##**Implementation of CNN architecture for FashionMINST dataset**"
      ]
    },
    {
      "cell_type": "code",
      "metadata": {
        "id": "-gkxa2XHBvwX",
        "colab_type": "code",
        "colab": {
          "base_uri": "https://localhost:8080/",
          "height": 34
        },
        "outputId": "e257f691-3176-4dfc-d901-7a8915a58421"
      },
      "source": [
        "%tensorflow_version 1.x"
      ],
      "execution_count": null,
      "outputs": [
        {
          "output_type": "stream",
          "text": [
            "TensorFlow 1.x selected.\n"
          ],
          "name": "stdout"
        }
      ]
    },
    {
      "cell_type": "code",
      "metadata": {
        "id": "F0wQx4QVq3JJ",
        "colab_type": "code",
        "colab": {
          "base_uri": "https://localhost:8080/",
          "height": 34
        },
        "outputId": "a68add4c-3c0b-4e57-ad2f-abeb209611d0"
      },
      "source": [
        "import keras\n",
        "import tensorflow as tf\n",
        "import matplotlib.pyplot as plt\n",
        "from keras.datasets import fashion_mnist\n",
        "from keras.datasets import mnist\n",
        "from keras import models, layers, applications\n",
        "from keras.utils import np_utils\n",
        "from keras.models import Sequential\n",
        "from keras.layers import Input, BatchNormalization, ReLU, Add"
      ],
      "execution_count": null,
      "outputs": [
        {
          "output_type": "stream",
          "text": [
            "Using TensorFlow backend.\n"
          ],
          "name": "stderr"
        }
      ]
    },
    {
      "cell_type": "code",
      "metadata": {
        "id": "8QPxWDxqUNgJ",
        "colab_type": "code",
        "colab": {
          "base_uri": "https://localhost:8080/",
          "height": 153
        },
        "outputId": "90af5d63-4f4c-4c47-bf1a-2e8f924b8841"
      },
      "source": [
        "(x_train, y_train), (x_test, y_test) = fashion_mnist.load_data()\n",
        "#(x_train, y_train), (x_test, y_test) = mnist.load_data()\n",
        "\n",
        "# Set numeric type to float32 from uint8\n",
        "x_train = x_train.astype('float32')\n",
        "x_test = x_test.astype('float32')\n",
        "\n",
        "# Normalize value to [0, 1]\n",
        "x_train /= 255\n",
        "x_test /= 255\n",
        "\n",
        "# Transform lables to one-hot encoding\n",
        "y_train = np_utils.to_categorical(y_train, 10)\n",
        "y_test = np_utils.to_categorical(y_test, 10)\n",
        "\n",
        "# Reshape the dataset into 4D array - 4th dimension number of datapoints\n",
        "x_train = x_train.reshape(x_train.shape[0], 28, 28, 1)\n",
        "x_test = x_test.reshape(x_test.shape[0], 28, 28, 1)"
      ],
      "execution_count": null,
      "outputs": [
        {
          "output_type": "stream",
          "text": [
            "Downloading data from http://fashion-mnist.s3-website.eu-central-1.amazonaws.com/train-labels-idx1-ubyte.gz\n",
            "32768/29515 [=================================] - 0s 0us/step\n",
            "Downloading data from http://fashion-mnist.s3-website.eu-central-1.amazonaws.com/train-images-idx3-ubyte.gz\n",
            "26427392/26421880 [==============================] - 0s 0us/step\n",
            "Downloading data from http://fashion-mnist.s3-website.eu-central-1.amazonaws.com/t10k-labels-idx1-ubyte.gz\n",
            "8192/5148 [===============================================] - 0s 0us/step\n",
            "Downloading data from http://fashion-mnist.s3-website.eu-central-1.amazonaws.com/t10k-images-idx3-ubyte.gz\n",
            "4423680/4422102 [==============================] - 0s 0us/step\n"
          ],
          "name": "stdout"
        }
      ]
    },
    {
      "cell_type": "markdown",
      "metadata": {
        "id": "infg5cunDJCQ",
        "colab_type": "text"
      },
      "source": [
        "\n",
        "**Below goes the simple CNN model code**\n"
      ]
    },
    {
      "cell_type": "code",
      "metadata": {
        "id": "qOtJhqc9QpnZ",
        "colab_type": "code",
        "colab": {}
      },
      "source": [
        "basic_CNN_model = Sequential([\n",
        "                    layers.Conv2D(6, kernel_size=(3, 3), strides=(1, 1), activation='relu', input_shape=(28,28,1), padding=\"same\"),\n",
        "                    layers.AveragePooling2D(pool_size=(2, 2), strides=(2, 2), padding=\"valid\"),\n",
        "                    layers.Dropout(0.3),\n",
        "                    \n",
        "                    layers.Conv2D(16, kernel_size=(4, 4), strides=(1, 1), activation='relu', padding=\"valid\"),\n",
        "                    layers.MaxPooling2D(pool_size=(2, 2), strides=(2, 2), padding=\"valid\"),\n",
        "                    \n",
        "                    layers.Conv2D(120, kernel_size=(5, 5), strides=(1, 1), activation='tanh', padding=\"valid\"),\n",
        "                    layers.Dropout(0.2),\n",
        "                    \n",
        "                    layers.Flatten(),\n",
        "                    layers.Dense(10, activation=\"softmax\")\n",
        "])"
      ],
      "execution_count": null,
      "outputs": []
    },
    {
      "cell_type": "code",
      "metadata": {
        "id": "mF3tf33nPo8N",
        "colab_type": "code",
        "colab": {
          "base_uri": "https://localhost:8080/",
          "height": 527
        },
        "outputId": "cc5c2a4a-386a-4e3f-d8ed-69522184a2f1"
      },
      "source": [
        "basic_CNN_model.compile(loss=keras.losses.categorical_crossentropy, optimizer='ADAM', metrics=[\"accuracy\"])\n",
        "basic_CNN_model.summary()"
      ],
      "execution_count": null,
      "outputs": [
        {
          "output_type": "stream",
          "text": [
            "WARNING:tensorflow:From /usr/local/lib/python3.6/dist-packages/keras/optimizers.py:793: The name tf.train.Optimizer is deprecated. Please use tf.compat.v1.train.Optimizer instead.\n",
            "\n",
            "WARNING:tensorflow:From /usr/local/lib/python3.6/dist-packages/keras/backend/tensorflow_backend.py:3576: The name tf.log is deprecated. Please use tf.math.log instead.\n",
            "\n",
            "Model: \"sequential_3\"\n",
            "_________________________________________________________________\n",
            "Layer (type)                 Output Shape              Param #   \n",
            "=================================================================\n",
            "conv2d_4 (Conv2D)            (None, 28, 28, 6)         60        \n",
            "_________________________________________________________________\n",
            "average_pooling2d_2 (Average (None, 14, 14, 6)         0         \n",
            "_________________________________________________________________\n",
            "dropout_3 (Dropout)          (None, 14, 14, 6)         0         \n",
            "_________________________________________________________________\n",
            "conv2d_5 (Conv2D)            (None, 11, 11, 16)        1552      \n",
            "_________________________________________________________________\n",
            "max_pooling2d_2 (MaxPooling2 (None, 5, 5, 16)          0         \n",
            "_________________________________________________________________\n",
            "conv2d_6 (Conv2D)            (None, 1, 1, 120)         48120     \n",
            "_________________________________________________________________\n",
            "dropout_4 (Dropout)          (None, 1, 1, 120)         0         \n",
            "_________________________________________________________________\n",
            "flatten_2 (Flatten)          (None, 120)               0         \n",
            "_________________________________________________________________\n",
            "dense_2 (Dense)              (None, 10)                1210      \n",
            "=================================================================\n",
            "Total params: 50,942\n",
            "Trainable params: 50,942\n",
            "Non-trainable params: 0\n",
            "_________________________________________________________________\n"
          ],
          "name": "stdout"
        }
      ]
    },
    {
      "cell_type": "code",
      "metadata": {
        "id": "K-QMrYruIAbm",
        "colab_type": "code",
        "colab": {
          "base_uri": "https://localhost:8080/",
          "height": 425
        },
        "outputId": "0d442612-5dc7-4922-e727-a935faded577"
      },
      "source": [
        "hist_basic = basic_CNN_model.fit(x = x_train, y = y_train, epochs = 10, batch_size = 512, validation_data = (x_test, y_test), verbose = 1)\n",
        "test_score = basic_CNN_model.evaluate(x_test, y_test)\n",
        "print(\"\\nTest loss of my basic CNN model {:.4f}, and accuracy {:.2f}%\".format(test_score[0], test_score[1] * 100))"
      ],
      "execution_count": null,
      "outputs": [
        {
          "output_type": "stream",
          "text": [
            "Train on 60000 samples, validate on 10000 samples\n",
            "Epoch 1/10\n",
            "60000/60000 [==============================] - 1s 15us/step - loss: 0.4302 - acc: 0.8400 - val_loss: 0.4128 - val_acc: 0.8493\n",
            "Epoch 2/10\n",
            "60000/60000 [==============================] - 1s 15us/step - loss: 0.4218 - acc: 0.8430 - val_loss: 0.3946 - val_acc: 0.8574\n",
            "Epoch 3/10\n",
            "60000/60000 [==============================] - 1s 14us/step - loss: 0.4156 - acc: 0.8467 - val_loss: 0.3971 - val_acc: 0.8555\n",
            "Epoch 4/10\n",
            "60000/60000 [==============================] - 1s 14us/step - loss: 0.4104 - acc: 0.8481 - val_loss: 0.3925 - val_acc: 0.8560\n",
            "Epoch 5/10\n",
            "60000/60000 [==============================] - 1s 15us/step - loss: 0.4026 - acc: 0.8508 - val_loss: 0.3833 - val_acc: 0.8591\n",
            "Epoch 6/10\n",
            "60000/60000 [==============================] - 1s 14us/step - loss: 0.3974 - acc: 0.8537 - val_loss: 0.3824 - val_acc: 0.8604\n",
            "Epoch 7/10\n",
            "60000/60000 [==============================] - 1s 15us/step - loss: 0.3931 - acc: 0.8541 - val_loss: 0.3657 - val_acc: 0.8667\n",
            "Epoch 8/10\n",
            "60000/60000 [==============================] - 1s 14us/step - loss: 0.3860 - acc: 0.8561 - val_loss: 0.3611 - val_acc: 0.8673\n",
            "Epoch 9/10\n",
            "60000/60000 [==============================] - 1s 14us/step - loss: 0.3826 - acc: 0.8567 - val_loss: 0.3597 - val_acc: 0.8683\n",
            "Epoch 10/10\n",
            "60000/60000 [==============================] - 1s 14us/step - loss: 0.3801 - acc: 0.8578 - val_loss: 0.3593 - val_acc: 0.8682\n",
            "10000/10000 [==============================] - 0s 49us/step\n",
            "\n",
            "Test loss of my basic CNN model 0.3593, and accuracy 86.82%\n"
          ],
          "name": "stdout"
        }
      ]
    },
    {
      "cell_type": "markdown",
      "metadata": {
        "id": "V9fK2CeKt8bh",
        "colab_type": "text"
      },
      "source": [
        "**Below goes the code for complex CNN model where resnet and inception module is together**"
      ]
    },
    {
      "cell_type": "code",
      "metadata": {
        "id": "d8aFbvZYobd8",
        "colab_type": "code",
        "colab": {
          "base_uri": "https://localhost:8080/",
          "height": 238
        },
        "outputId": "e862a44a-b17d-41f9-95bc-1a085ea50221"
      },
      "source": [
        "inputs = Input(x_train.shape[1:])\n",
        "                    \n",
        "# start of incepiton module\n",
        "\n",
        "tower_one = layers.MaxPooling2D((3,3), strides=(1,1), padding='same')(inputs)\n",
        "tower_one = layers.Conv2D(6, (1,1), activation='relu', border_mode='same')(tower_one)\n",
        "tower_two = layers.Conv2D(6, (1,1), activation='relu', border_mode='same')(inputs)\n",
        "tower_two = layers.Conv2D(6, (3,3), activation='relu', border_mode='same')(tower_two)\n",
        "tower_three = layers.Conv2D(6, (1,1), activation='relu', border_mode='same')(inputs)\n",
        "tower_three = layers.Conv2D(6, (5,5), activation='relu', border_mode='same')(tower_three)\n",
        "x = keras.layers.concatenate([tower_one, tower_two, tower_three], axis=3)\n",
        "\n",
        "# end of inception module\n",
        "\n",
        "# start of resnet module\n",
        "\n",
        "h_1 = layers.Conv2D(6, (3,3), border_mode='same')(x)\n",
        "h_1 = BatchNormalization()(h_1)\n",
        "h_1 = ReLU()(h_1)\n",
        "h_2 = layers.Conv2D(6, (3,3), border_mode='same')(h_1)\n",
        "h_2 = BatchNormalization()(h_2)\n",
        "shortcut = layers.Conv2D(6, (1,1), padding='same')(inputs)\n",
        "shortcut = BatchNormalization()(shortcut)\n",
        "output = Add()([h_2, shortcut])\n",
        "x = layers.Flatten()(output)\n",
        "x = layers.Dense(64, activation='relu')(x)\n",
        "predictions = layers.Dense(10, activation='softmax')(x)\n",
        "\n",
        "# end of the resnet module\n",
        "\n",
        "complex_CNN_model = keras.Model(input = inputs, output = predictions)"
      ],
      "execution_count": null,
      "outputs": [
        {
          "output_type": "stream",
          "text": [
            "/usr/local/lib/python3.6/dist-packages/ipykernel_launcher.py:6: UserWarning: Update your `Conv2D` call to the Keras 2 API: `Conv2D(6, (1, 1), activation=\"relu\", padding=\"same\")`\n",
            "  \n",
            "/usr/local/lib/python3.6/dist-packages/ipykernel_launcher.py:7: UserWarning: Update your `Conv2D` call to the Keras 2 API: `Conv2D(6, (1, 1), activation=\"relu\", padding=\"same\")`\n",
            "  import sys\n",
            "/usr/local/lib/python3.6/dist-packages/ipykernel_launcher.py:8: UserWarning: Update your `Conv2D` call to the Keras 2 API: `Conv2D(6, (3, 3), activation=\"relu\", padding=\"same\")`\n",
            "  \n",
            "/usr/local/lib/python3.6/dist-packages/ipykernel_launcher.py:9: UserWarning: Update your `Conv2D` call to the Keras 2 API: `Conv2D(6, (1, 1), activation=\"relu\", padding=\"same\")`\n",
            "  if __name__ == '__main__':\n",
            "/usr/local/lib/python3.6/dist-packages/ipykernel_launcher.py:10: UserWarning: Update your `Conv2D` call to the Keras 2 API: `Conv2D(6, (5, 5), activation=\"relu\", padding=\"same\")`\n",
            "  # Remove the CWD from sys.path while we load stuff.\n",
            "/usr/local/lib/python3.6/dist-packages/ipykernel_launcher.py:17: UserWarning: Update your `Conv2D` call to the Keras 2 API: `Conv2D(6, (3, 3), padding=\"same\")`\n",
            "/usr/local/lib/python3.6/dist-packages/ipykernel_launcher.py:20: UserWarning: Update your `Conv2D` call to the Keras 2 API: `Conv2D(6, (3, 3), padding=\"same\")`\n",
            "/usr/local/lib/python3.6/dist-packages/ipykernel_launcher.py:31: UserWarning: Update your `Model` call to the Keras 2 API: `Model(inputs=Tensor(\"in..., outputs=Tensor(\"de...)`\n"
          ],
          "name": "stderr"
        }
      ]
    },
    {
      "cell_type": "code",
      "metadata": {
        "id": "Hx9nqRWcrSQ8",
        "colab_type": "code",
        "colab": {
          "base_uri": "https://localhost:8080/",
          "height": 850
        },
        "outputId": "9a73bd1b-7cb4-404e-a10f-44153b83927e"
      },
      "source": [
        "complex_CNN_model.summary()\n",
        "complex_CNN_model.compile(loss=keras.losses.categorical_crossentropy, optimizer='ADAM', metrics=[\"accuracy\"])"
      ],
      "execution_count": null,
      "outputs": [
        {
          "output_type": "stream",
          "text": [
            "Model: \"model_2\"\n",
            "__________________________________________________________________________________________________\n",
            "Layer (type)                    Output Shape         Param #     Connected to                     \n",
            "==================================================================================================\n",
            "input_2 (InputLayer)            (None, 28, 28, 1)    0                                            \n",
            "__________________________________________________________________________________________________\n",
            "max_pooling2d_4 (MaxPooling2D)  (None, 28, 28, 1)    0           input_2[0][0]                    \n",
            "__________________________________________________________________________________________________\n",
            "conv2d_16 (Conv2D)              (None, 28, 28, 6)    12          input_2[0][0]                    \n",
            "__________________________________________________________________________________________________\n",
            "conv2d_18 (Conv2D)              (None, 28, 28, 6)    12          input_2[0][0]                    \n",
            "__________________________________________________________________________________________________\n",
            "conv2d_15 (Conv2D)              (None, 28, 28, 6)    12          max_pooling2d_4[0][0]            \n",
            "__________________________________________________________________________________________________\n",
            "conv2d_17 (Conv2D)              (None, 28, 28, 6)    330         conv2d_16[0][0]                  \n",
            "__________________________________________________________________________________________________\n",
            "conv2d_19 (Conv2D)              (None, 28, 28, 6)    906         conv2d_18[0][0]                  \n",
            "__________________________________________________________________________________________________\n",
            "concatenate_2 (Concatenate)     (None, 28, 28, 18)   0           conv2d_15[0][0]                  \n",
            "                                                                 conv2d_17[0][0]                  \n",
            "                                                                 conv2d_19[0][0]                  \n",
            "__________________________________________________________________________________________________\n",
            "conv2d_20 (Conv2D)              (None, 28, 28, 6)    978         concatenate_2[0][0]              \n",
            "__________________________________________________________________________________________________\n",
            "batch_normalization_4 (BatchNor (None, 28, 28, 6)    24          conv2d_20[0][0]                  \n",
            "__________________________________________________________________________________________________\n",
            "re_lu_2 (ReLU)                  (None, 28, 28, 6)    0           batch_normalization_4[0][0]      \n",
            "__________________________________________________________________________________________________\n",
            "conv2d_21 (Conv2D)              (None, 28, 28, 6)    330         re_lu_2[0][0]                    \n",
            "__________________________________________________________________________________________________\n",
            "conv2d_22 (Conv2D)              (None, 28, 28, 6)    12          input_2[0][0]                    \n",
            "__________________________________________________________________________________________________\n",
            "batch_normalization_5 (BatchNor (None, 28, 28, 6)    24          conv2d_21[0][0]                  \n",
            "__________________________________________________________________________________________________\n",
            "batch_normalization_6 (BatchNor (None, 28, 28, 6)    24          conv2d_22[0][0]                  \n",
            "__________________________________________________________________________________________________\n",
            "add_2 (Add)                     (None, 28, 28, 6)    0           batch_normalization_5[0][0]      \n",
            "                                                                 batch_normalization_6[0][0]      \n",
            "__________________________________________________________________________________________________\n",
            "flatten_4 (Flatten)             (None, 4704)         0           add_2[0][0]                      \n",
            "__________________________________________________________________________________________________\n",
            "dense_5 (Dense)                 (None, 64)           301120      flatten_4[0][0]                  \n",
            "__________________________________________________________________________________________________\n",
            "dense_6 (Dense)                 (None, 10)           650         dense_5[0][0]                    \n",
            "==================================================================================================\n",
            "Total params: 304,434\n",
            "Trainable params: 304,398\n",
            "Non-trainable params: 36\n",
            "__________________________________________________________________________________________________\n"
          ],
          "name": "stdout"
        }
      ]
    },
    {
      "cell_type": "code",
      "metadata": {
        "id": "VAvoximgIsNh",
        "colab_type": "code",
        "colab": {
          "base_uri": "https://localhost:8080/",
          "height": 425
        },
        "outputId": "fa38b2a1-0a52-442a-a5c8-6e7d42ab03ef"
      },
      "source": [
        "hist_complex = complex_CNN_model.fit(x = x_train, y = y_train, epochs = 10, batch_size = 512, validation_data = (x_test, y_test), verbose = 1)\n",
        "test_score = complex_CNN_model.evaluate(x_test, y_test)\n",
        "print(\"\\nTest loss of my complex CNN model {:.4f}, and accuracy {:.2f}%\".format(test_score[0], test_score[1] * 100))"
      ],
      "execution_count": null,
      "outputs": [
        {
          "output_type": "stream",
          "text": [
            "Train on 60000 samples, validate on 10000 samples\n",
            "Epoch 1/10\n",
            "60000/60000 [==============================] - 2s 38us/step - loss: 0.0710 - acc: 0.9747 - val_loss: 0.4679 - val_acc: 0.8721\n",
            "Epoch 2/10\n",
            "60000/60000 [==============================] - 2s 38us/step - loss: 0.0565 - acc: 0.9809 - val_loss: 0.3944 - val_acc: 0.8925\n",
            "Epoch 3/10\n",
            "60000/60000 [==============================] - 2s 38us/step - loss: 0.0467 - acc: 0.9844 - val_loss: 0.4521 - val_acc: 0.8881\n",
            "Epoch 4/10\n",
            "60000/60000 [==============================] - 2s 38us/step - loss: 0.0405 - acc: 0.9864 - val_loss: 0.5452 - val_acc: 0.8717\n",
            "Epoch 5/10\n",
            "60000/60000 [==============================] - 2s 38us/step - loss: 0.0363 - acc: 0.9879 - val_loss: 0.4828 - val_acc: 0.8950\n",
            "Epoch 6/10\n",
            "60000/60000 [==============================] - 2s 38us/step - loss: 0.0260 - acc: 0.9922 - val_loss: 0.4832 - val_acc: 0.8941\n",
            "Epoch 7/10\n",
            "60000/60000 [==============================] - 2s 38us/step - loss: 0.0248 - acc: 0.9923 - val_loss: 0.5432 - val_acc: 0.8870\n",
            "Epoch 8/10\n",
            "60000/60000 [==============================] - 2s 38us/step - loss: 0.0191 - acc: 0.9947 - val_loss: 0.5290 - val_acc: 0.8966\n",
            "Epoch 9/10\n",
            "60000/60000 [==============================] - 2s 38us/step - loss: 0.0149 - acc: 0.9958 - val_loss: 0.5591 - val_acc: 0.8893\n",
            "Epoch 10/10\n",
            "60000/60000 [==============================] - 2s 38us/step - loss: 0.0124 - acc: 0.9966 - val_loss: 0.5666 - val_acc: 0.8947\n",
            "10000/10000 [==============================] - 1s 65us/step\n",
            "\n",
            "Test loss of my complex CNN model 0.5666, and accuracy 89.47%\n"
          ],
          "name": "stdout"
        }
      ]
    }
  ]
}